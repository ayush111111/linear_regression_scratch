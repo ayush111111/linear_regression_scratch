{
 "cells": [
  {
   "cell_type": "code",
   "execution_count": 103,
   "metadata": {},
   "outputs": [],
   "source": [
    "import numpy as np\n",
    "import pandas as pd\n",
    "import matplotlib.pyplot as plt"
   ]
  },
  {
   "cell_type": "code",
   "execution_count": 104,
   "metadata": {
    "scrolled": true
   },
   "outputs": [
    {
     "name": "stdout",
     "output_type": "stream",
     "text": [
      "(506, 14)\n"
     ]
    }
   ],
   "source": [
    "data = pd.read_csv('housing.csv',delim_whitespace=True,names = ['CRIM', 'ZN', 'INDUS', 'CHAS', 'NOX', 'RM', 'AGE', 'DIS', 'RAD', 'TAX', 'PTRATIO', 'B', 'LSTAT', 'MEDV']\n",
    ")\n",
    "print(data.shape)\n",
    "data.head()\n",
    "column_names = ['CRIM', 'ZN', 'INDUS', 'CHAS', 'NOX', 'RM', 'AGE', 'DIS', 'RAD', 'TAX', 'PTRATIO', 'B', 'LSTAT', 'MEDV']\n"
   ]
  },
  {
   "cell_type": "code",
   "execution_count": 105,
   "metadata": {
    "scrolled": true
   },
   "outputs": [],
   "source": [
    "CRIM = data['CRIM'].values#try to do with slicing\n",
    "ZN = data['ZN'].values\n",
    "INDUS= data['INDUS'].values\n",
    "CHAS= data['CHAS'].values\n",
    "NOX= data['INDUS'].values\n",
    "RM= data['RM'].values\n",
    "AGE= data['AGE'].values\n",
    "DIS= data['DIS'].values\n",
    "RAD= data['RAD'].values\n",
    "TAX= data['TAX'].values\n",
    "PTRATIO= data['PTRATIO'].values\n",
    "B= data['B'].values\n",
    "LSTAT= data['LSTAT'].values\n",
    "MEDV= data['MEDV'].values\n",
    "\n",
    "m = len(CRIM)\n",
    "x0 = np.ones(m)\n",
    "\n",
    "X = np.array([ x0,CRIM, ZN, INDUS, CHAS, NOX, RM, AGE, DIS, RAD, TAX, PTRATIO, B, LSTAT]).T\n",
    "Y = np.array(MEDV)"
   ]
  },
  {
   "cell_type": "code",
   "execution_count": 106,
   "metadata": {},
   "outputs": [],
   "source": [
    "X = (data - data.mean())/(data.max()-data.min())\n"
   ]
  },
  {
   "cell_type": "code",
   "execution_count": null,
   "metadata": {},
   "outputs": [],
   "source": []
  },
  {
   "cell_type": "code",
   "execution_count": 107,
   "metadata": {},
   "outputs": [],
   "source": [
    "m = len(CRIM)\n",
    "x0 = np.ones(m)\n",
    "X = np.array([x0,CRIM,\n",
    " INDUS, CHAS, NOX, RM, AGE, DIS, RAD, TAX, PTRATIO, B, LSTAT, ZN]).T\n",
    "B = np.array([0,0,0,0,0,0,0,0,0,0,0,0,0,0])#initialise weights\n",
    "alpha = 0.0000001\n",
    "d = np.dtype(int)\n"
   ]
  },
  {
   "cell_type": "code",
   "execution_count": 108,
   "metadata": {},
   "outputs": [
    {
     "data": {
      "text/plain": [
       "array([0, 0, 0, 0, 0, 0, 0, 0, 0, 0, 0, 0, 0, 0])"
      ]
     },
     "execution_count": 108,
     "metadata": {},
     "output_type": "execute_result"
    }
   ],
   "source": [
    "data.shape\n",
    "Y.shape\n",
    "B"
   ]
  },
  {
   "cell_type": "code",
   "execution_count": 109,
   "metadata": {
    "scrolled": true
   },
   "outputs": [
    {
     "data": {
      "text/plain": [
       "(506,)"
      ]
     },
     "execution_count": 109,
     "metadata": {},
     "output_type": "execute_result"
    }
   ],
   "source": [
    "Y.shape"
   ]
  },
  {
   "cell_type": "code",
   "execution_count": null,
   "metadata": {},
   "outputs": [],
   "source": []
  },
  {
   "cell_type": "code",
   "execution_count": 110,
   "metadata": {},
   "outputs": [],
   "source": [
    "def cost_function(X, Y, B):\n",
    "    m = len(Y)\n",
    "    J = np.sum((X.dot(B) - Y) ** 2)/(2 * m)\n",
    "    return J"
   ]
  },
  {
   "cell_type": "code",
   "execution_count": 111,
   "metadata": {},
   "outputs": [
    {
     "name": "stdout",
     "output_type": "stream",
     "text": [
      "296.073458498\n"
     ]
    },
    {
     "data": {
      "text/plain": [
       "array([[  1.00000000e+00,   6.32000000e-03,   2.31000000e+00, ...,\n",
       "          3.96900000e+02,   4.98000000e+00,   1.80000000e+01],\n",
       "       [  1.00000000e+00,   2.73100000e-02,   7.07000000e+00, ...,\n",
       "          3.96900000e+02,   9.14000000e+00,   0.00000000e+00],\n",
       "       [  1.00000000e+00,   2.72900000e-02,   7.07000000e+00, ...,\n",
       "          3.92830000e+02,   4.03000000e+00,   0.00000000e+00],\n",
       "       ..., \n",
       "       [  1.00000000e+00,   6.07600000e-02,   1.19300000e+01, ...,\n",
       "          3.96900000e+02,   5.64000000e+00,   0.00000000e+00],\n",
       "       [  1.00000000e+00,   1.09590000e-01,   1.19300000e+01, ...,\n",
       "          3.93450000e+02,   6.48000000e+00,   0.00000000e+00],\n",
       "       [  1.00000000e+00,   4.74100000e-02,   1.19300000e+01, ...,\n",
       "          3.96900000e+02,   7.88000000e+00,   0.00000000e+00]])"
      ]
     },
     "execution_count": 111,
     "metadata": {},
     "output_type": "execute_result"
    }
   ],
   "source": [
    "inital_cost = cost_function(X, Y, B)\n",
    "print(inital_cost)\n",
    "\n",
    "np.resize(X, (506,14))"
   ]
  },
  {
   "cell_type": "code",
   "execution_count": 112,
   "metadata": {},
   "outputs": [],
   "source": [
    "def gradient_descent(X, Y, B, alpha, iterations):\n",
    "    cost_history = [0] * iterations #what is this#ans:initialise cost history value\n",
    "    m = len(Y)\n",
    "    \n",
    "    for iteration in range(iterations):\n",
    "      \n",
    "        h = X.dot(B)\n",
    "        \n",
    "        loss = h - Y\n",
    "        \n",
    "        gradient = X.T.dot(loss) / m\n",
    "        \n",
    "        B = B - alpha * gradient\n",
    "        \n",
    "        cost = cost_function(X, Y, B)\n",
    "        cost_history[iteration] = cost\n",
    "        \n",
    "    return B, cost_history"
   ]
  },
  {
   "cell_type": "code",
   "execution_count": 115,
   "metadata": {},
   "outputs": [
    {
     "name": "stdout",
     "output_type": "stream",
     "text": [
      "40.5253661032\n"
     ]
    },
    {
     "data": {
      "image/png": "[encoded data removed]",
      "text/plain": [
       "<matplotlib.figure.Figure at 0x7f692248c828>"
      ]
     },
     "metadata": {},
     "output_type": "display_data"
    }
   ],
   "source": [
    "newB, cost_history = gradient_descent(X, Y, B, alpha, 1000)#nan error is shown only for high values of iterations \n",
    "print(cost_history[-1])\n",
    "\n",
    "plt.plot(range(1, len(cost_history)+1), cost_history)\n",
    "plt.title(\"Training Curve\")\n",
    "plt.xlabel(\"Iteration \")\n",
    "plt.ylabel(\"Cost\")\n",
    "plt.show()\n",
    "\n"
   ]
  },
  {
   "cell_type": "code",
   "execution_count": 114,
   "metadata": {},
   "outputs": [],
   "source": [
    "#train_x = data.drop(['MEDV'], axis = 1)split data"
   ]
  },
  {
   "cell_type": "code",
   "execution_count": null,
   "metadata": {},
   "outputs": [],
   "source": []
  },
  {
   "cell_type": "code",
   "execution_count": null,
   "metadata": {},
   "outputs": [],
   "source": []
  },
  {
   "cell_type": "code",
   "execution_count": null,
   "metadata": {},
   "outputs": [],
   "source": []
  },
  {
   "cell_type": "code",
   "execution_count": null,
   "metadata": {},
   "outputs": [],
   "source": []
  }
 ],
 "metadata": {
  "kernelspec": {
   "display_name": "Python 3",
   "language": "python",
   "name": "python3"
  },
  "language_info": {
   "codemirror_mode": {
    "name": "ipython",
    "version": 3
   },
   "file_extension": ".py",
   "mimetype": "text/x-python",
   "name": "python",
   "nbconvert_exporter": "python",
   "pygments_lexer": "ipython3",
   "version": "3.6.8"
  }
 },
 "nbformat": 4,
 "nbformat_minor": 2
}
